{
 "cells": [
  {
   "cell_type": "code",
   "execution_count": 11,
   "id": "1b3e1ccb",
   "metadata": {},
   "outputs": [
    {
     "name": "stdout",
     "output_type": "stream",
     "text": [
      "Enter the numbers with space: 3 2 3\n",
      "Elements that appear more than ⌊ n/3 ⌋ times: [3]\n"
     ]
    }
   ],
   "source": [
    "def max_elements(num):\n",
    "    n = len(num)\n",
    "    limit = n // 3\n",
    "\n",
    "    count = {}\n",
    "    for n1 in num:\n",
    "        count[n1] = count.get(n1, 0) + 1\n",
    "\n",
    "    result = []\n",
    "    for n1, c in count.items():\n",
    "        if c > limit:\n",
    "            result.append(n1)\n",
    "\n",
    "    return result\n",
    "\n",
    "array = input(\"Enter the numbers with space: \")\n",
    "num = list(map(int, array.split()))\n",
    "\n",
    "result = max_elements(num)\n",
    "print(\"Elements that appear more than ⌊ n/3 ⌋ times:\", result)"
   ]
  },
  {
   "cell_type": "markdown",
   "id": "1ec7e3a8",
   "metadata": {},
   "source": [
    "#The above code takes input from the users and converts it into a list of numbers and calculates the limit value of n/3 (n=length). Later the count dictionary is used to count the occurences and append to the results list if their count is greater"
   ]
  },
  {
   "cell_type": "code",
   "execution_count": null,
   "id": "148ab6df",
   "metadata": {},
   "outputs": [],
   "source": []
  }
 ],
 "metadata": {
  "kernelspec": {
   "display_name": "Python 3 (ipykernel)",
   "language": "python",
   "name": "python3"
  },
  "language_info": {
   "codemirror_mode": {
    "name": "ipython",
    "version": 3
   },
   "file_extension": ".py",
   "mimetype": "text/x-python",
   "name": "python",
   "nbconvert_exporter": "python",
   "pygments_lexer": "ipython3",
   "version": "3.9.12"
  }
 },
 "nbformat": 4,
 "nbformat_minor": 5
}

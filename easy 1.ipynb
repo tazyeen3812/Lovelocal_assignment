{
 "cells": [
  {
   "cell_type": "code",
   "execution_count": 6,
   "id": "4afc2518",
   "metadata": {},
   "outputs": [
    {
     "name": "stdout",
     "output_type": "stream",
     "text": [
      "Enter your string: Hello world\n",
      "Length of the last word: 5\n"
     ]
    }
   ],
   "source": [
    "def last_word_length(s):\n",
    "\n",
    "    length = 0\n",
    "\n",
    "    for char in reversed(s):\n",
    "        if char == ' ':\n",
    "            break\n",
    "        length += 1\n",
    "\n",
    "    return length\n",
    "\n",
    "string = input(\"Enter your string: \")\n",
    "\n",
    "print(\"Length of the last word:\", last_word_length(string))"
   ]
  },
  {
   "cell_type": "markdown",
   "id": "16f9c6a0",
   "metadata": {},
   "source": [
    "#The code above helps us to itirate through the string in reverse order until a space is encountered\n",
    "and returns the count of characters when it reaches an end or encountrs space. \n",
    "1. reverse(s) helps in in reversing the string s\n",
    "2. The if statement with break helps to stop the itiration when a space is encountered.\n",
    "3. The length is usd to increment the count."
   ]
  },
  {
   "cell_type": "code",
   "execution_count": null,
   "id": "bee67ada",
   "metadata": {},
   "outputs": [],
   "source": []
  }
 ],
 "metadata": {
  "kernelspec": {
   "display_name": "Python 3 (ipykernel)",
   "language": "python",
   "name": "python3"
  },
  "language_info": {
   "codemirror_mode": {
    "name": "ipython",
    "version": 3
   },
   "file_extension": ".py",
   "mimetype": "text/x-python",
   "name": "python",
   "nbconvert_exporter": "python",
   "pygments_lexer": "ipython3",
   "version": "3.9.12"
  }
 },
 "nbformat": 4,
 "nbformat_minor": 5
}

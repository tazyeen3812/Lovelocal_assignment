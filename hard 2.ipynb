{
 "cells": [
  {
   "cell_type": "code",
   "execution_count": 6,
   "id": "5dcd7e29",
   "metadata": {},
   "outputs": [
    {
     "name": "stdout",
     "output_type": "stream",
     "text": [
      "Enter your string: hdfh\n",
      "Palindrome: hfdhdfh\n"
     ]
    }
   ],
   "source": [
    "def smaller_palindrome(s):\n",
    "    def palindrome(s1):\n",
    "        return s1 == s1[::-1]\n",
    "\n",
    "    for i in range(len(s), 0, -1):\n",
    "        if palindrome(s[:i]):\n",
    "            return s[i:][::-1] + s\n",
    "\n",
    "    return s\n",
    "\n",
    "string = input(\"Enter your string: \")\n",
    "\n",
    "result = smaller_palindrome(string)\n",
    "\n",
    "print(\"Palindrome:\", result)"
   ]
  },
  {
   "cell_type": "markdown",
   "id": "2385c06d",
   "metadata": {},
   "source": [
    "#The above code uses two functions in which one is used to find the possible palindrome in the sub string \n",
    "through itirations. Once found the remaining part of the string is added to the front of the string in reverse \n",
    "to convert the whole string into a palindrome."
   ]
  },
  {
   "cell_type": "code",
   "execution_count": null,
   "id": "b4d0ee65",
   "metadata": {},
   "outputs": [],
   "source": []
  }
 ],
 "metadata": {
  "kernelspec": {
   "display_name": "Python 3 (ipykernel)",
   "language": "python",
   "name": "python3"
  },
  "language_info": {
   "codemirror_mode": {
    "name": "ipython",
    "version": 3
   },
   "file_extension": ".py",
   "mimetype": "text/x-python",
   "name": "python",
   "nbconvert_exporter": "python",
   "pygments_lexer": "ipython3",
   "version": "3.9.12"
  }
 },
 "nbformat": 4,
 "nbformat_minor": 5
}
